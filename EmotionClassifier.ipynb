{
  "nbformat": 4,
  "nbformat_minor": 0,
  "metadata": {
    "colab": {
      "name": "EmotionClassifier.ipynb",
      "version": "0.3.2",
      "provenance": []
    },
    "kernelspec": {
      "name": "python3",
      "display_name": "Python 3"
    },
    "accelerator": "GPU"
  },
  "cells": [
    {
      "metadata": {
        "id": "06FpRNYQllir",
        "colab_type": "code",
        "outputId": "42ad18a1-275f-483e-ce77-faa8d7d68951",
        "colab": {
          "base_uri": "https://localhost:8080/",
          "height": 125
        }
      },
      "cell_type": "code",
      "source": [
        "# Mounting drive\n",
        "\n",
        "from google.colab import drive\n",
        "drive.mount('/content/gdrive')"
      ],
      "execution_count": 1,
      "outputs": [
        {
          "output_type": "stream",
          "text": [
            "Go to this URL in a browser: https://accounts.google.com/o/oauth2/auth?client_id=947318989803-6bn6qk8qdgf4n4g3pfee6491hc0brc4i.apps.googleusercontent.com&redirect_uri=urn%3Aietf%3Awg%3Aoauth%3A2.0%3Aoob&scope=email%20https%3A%2F%2Fwww.googleapis.com%2Fauth%2Fdocs.test%20https%3A%2F%2Fwww.googleapis.com%2Fauth%2Fdrive%20https%3A%2F%2Fwww.googleapis.com%2Fauth%2Fdrive.photos.readonly%20https%3A%2F%2Fwww.googleapis.com%2Fauth%2Fpeopleapi.readonly&response_type=code\n",
            "\n",
            "Enter your authorization code:\n",
            "··········\n",
            "Mounted at /content/gdrive\n"
          ],
          "name": "stdout"
        }
      ]
    },
    {
      "metadata": {
        "id": "1cj0lFlI0TOm",
        "colab_type": "code",
        "outputId": "a1722176-ac71-4e83-ddf1-9e905e6ce635",
        "colab": {
          "base_uri": "https://localhost:8080/",
          "height": 52
        }
      },
      "cell_type": "code",
      "source": [
        "! unzip gdrive/My\\ Drive/fer2013.zip"
      ],
      "execution_count": 2,
      "outputs": [
        {
          "output_type": "stream",
          "text": [
            "Archive:  gdrive/My Drive/fer2013.zip\n",
            "  inflating: fer2013.csv             \n"
          ],
          "name": "stdout"
        }
      ]
    },
    {
      "metadata": {
        "id": "4K0iS-x_1MXX",
        "colab_type": "code",
        "colab": {}
      },
      "cell_type": "code",
      "source": [
        "import numpy as np\n",
        "import matplotlib.pyplot as plt"
      ],
      "execution_count": 0,
      "outputs": []
    },
    {
      "metadata": {
        "id": "IM8zH31D2M27",
        "colab_type": "code",
        "colab": {}
      },
      "cell_type": "code",
      "source": [
        "num_classes = 7 # angry, disgust, fear, happy, sad, surprise, neutral\n",
        "batch_size = 256\n",
        "epochs = 5"
      ],
      "execution_count": 0,
      "outputs": []
    },
    {
      "metadata": {
        "id": "GKiUPe_piyZb",
        "colab_type": "code",
        "colab": {
          "base_uri": "https://localhost:8080/",
          "height": 34
        },
        "outputId": "3998b6aa-86d8-492c-883b-5561eda8ad70"
      },
      "cell_type": "code",
      "source": [
        "with open(\"fer2013.csv\") as f:\n",
        "  content = f.readlines()\n",
        " \n",
        "lines = np.array(content)\n",
        " \n",
        "num_of_instances = lines.size\n",
        "print(\"number of instances: \",num_of_instances)"
      ],
      "execution_count": 16,
      "outputs": [
        {
          "output_type": "stream",
          "text": [
            "number of instances:  35888\n"
          ],
          "name": "stdout"
        }
      ]
    },
    {
      "metadata": {
        "id": "YFnLnnPhizHw",
        "colab_type": "code",
        "colab": {}
      },
      "cell_type": "code",
      "source": [
        "# Initialising train and test sets\n",
        "\n",
        "x_train, y_train, x_test, y_test = [], [], [], []"
      ],
      "execution_count": 0,
      "outputs": []
    },
    {
      "metadata": {
        "id": "lLsBiAIM8ZM0",
        "colab_type": "code",
        "colab": {}
      },
      "cell_type": "code",
      "source": [
        "for i in range(1, num_of_instances):\n",
        "  \n",
        "  try:\n",
        "    emotion, img, usage = lines[i].split(\",\")\n",
        "    \n",
        "    val = img.split(\" \")\n",
        "    pixels = np.array(val, 'float32')\n",
        "    \n",
        "    if 'Training' in usage:\n",
        "      y_train.append(emotion)\n",
        "      x_train.append(pixels)\n",
        "      \n",
        "    elif 'PublicTest' in usage:\n",
        "      y_test.append(emotion)\n",
        "      x_test.append(pixels)\n",
        "      \n",
        "  except:\n",
        "    print(\"\", end=\"\")"
      ],
      "execution_count": 0,
      "outputs": []
    },
    {
      "metadata": {
        "id": "A1UuqcDnC2_3",
        "colab_type": "code",
        "colab": {}
      },
      "cell_type": "code",
      "source": [
        ""
      ],
      "execution_count": 0,
      "outputs": []
    },
    {
      "metadata": {
        "id": "FxXBLkWNC3DX",
        "colab_type": "code",
        "colab": {}
      },
      "cell_type": "code",
      "source": [
        ""
      ],
      "execution_count": 0,
      "outputs": []
    },
    {
      "metadata": {
        "id": "R85pSFChoxj8",
        "colab_type": "code",
        "colab": {}
      },
      "cell_type": "code",
      "source": [
        "import torch.utils.data as data\n",
        "import pandas as pd"
      ],
      "execution_count": 0,
      "outputs": []
    },
    {
      "metadata": {
        "id": "yLazR0ArAxfg",
        "colab_type": "code",
        "colab": {}
      },
      "cell_type": "code",
      "source": [
        "class FerDataset(data.Dataset):\n",
        "  \n",
        "  def __init__(self, split='Training', transform=None, csv_path):\n",
        "    \n",
        "    self.transform = transform\n",
        "    \n",
        "    self.split = split\n",
        "    \n",
        "    self.data = pd.read_csv('fer2013.csv')\n",
        "    \n",
        "    if self.split == 'Training':\n",
        "      \n",
        "      self.train_data = self.data['pixels']\n",
        "      self.train_labels = self.data['emotion']\n",
        "      self.train_data = np.asarray(self.train_data)\n",
        "      self.train_data = self.train_data.reshape((28709, 48, 48))\n",
        "      \n",
        "    \n",
        "    elif self.split == 'PublicTest':\n",
        "      \n",
        "      self.PublicTest_data = self.data['pixels']\n",
        "      self.Publictest_labels = self.data['emotion']\n",
        "      self.PublicTest_data = np.asarray(self.PublicTest_data)\n",
        "      self.PublicTest_data = self.PublicTest_data.reshape((3589, 48, 48))\n",
        "   \n",
        "  \n",
        "    else:\n",
        "      \n",
        "      self.PrivateTest_data = self.data['pixels']\n",
        "      self.Privatetest_labels = self.data['emotion']\n",
        "      self.PrivateTest_data = np.asarray(self.PrivateTest_data)\n",
        "      self.PrivateTest_data = self.PrivateTest_data.reshape((3589, 48, 48))"
      ],
      "execution_count": 0,
      "outputs": []
    }
  ]
}