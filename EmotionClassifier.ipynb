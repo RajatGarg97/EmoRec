{
  "nbformat": 4,
  "nbformat_minor": 0,
  "metadata": {
    "colab": {
      "name": "EmotionClassifier.ipynb",
      "version": "0.3.2",
      "provenance": []
    },
    "kernelspec": {
      "name": "python3",
      "display_name": "Python 3"
    },
    "accelerator": "GPU"
  },
  "cells": [
    {
      "metadata": {
        "id": "06FpRNYQllir",
        "colab_type": "code",
        "outputId": "1e9999cd-67b0-449f-b43a-027c0f759ee2",
        "colab": {
          "base_uri": "https://localhost:8080/",
          "height": 125
        }
      },
      "cell_type": "code",
      "source": [
        "# Mounting drive\n",
        "\n",
        "from google.colab import drive\n",
        "drive.mount('/content/gdrive')"
      ],
      "execution_count": 1,
      "outputs": [
        {
          "output_type": "stream",
          "text": [
            "Go to this URL in a browser: https://accounts.google.com/o/oauth2/auth?client_id=947318989803-6bn6qk8qdgf4n4g3pfee6491hc0brc4i.apps.googleusercontent.com&redirect_uri=urn%3Aietf%3Awg%3Aoauth%3A2.0%3Aoob&scope=email%20https%3A%2F%2Fwww.googleapis.com%2Fauth%2Fdocs.test%20https%3A%2F%2Fwww.googleapis.com%2Fauth%2Fdrive%20https%3A%2F%2Fwww.googleapis.com%2Fauth%2Fdrive.photos.readonly%20https%3A%2F%2Fwww.googleapis.com%2Fauth%2Fpeopleapi.readonly&response_type=code\n",
            "\n",
            "Enter your authorization code:\n",
            "··········\n",
            "Mounted at /content/gdrive\n"
          ],
          "name": "stdout"
        }
      ]
    },
    {
      "metadata": {
        "id": "1cj0lFlI0TOm",
        "colab_type": "code",
        "outputId": "30194606-c146-426e-82f7-0ca105ec8093",
        "colab": {
          "base_uri": "https://localhost:8080/",
          "height": 52
        }
      },
      "cell_type": "code",
      "source": [
        "! unzip gdrive/My\\ Drive/fer2013.zip"
      ],
      "execution_count": 2,
      "outputs": [
        {
          "output_type": "stream",
          "text": [
            "Archive:  gdrive/My Drive/fer2013.zip\n",
            "  inflating: fer2013.csv             \n"
          ],
          "name": "stdout"
        }
      ]
    },
    {
      "metadata": {
        "id": "4K0iS-x_1MXX",
        "colab_type": "code",
        "colab": {}
      },
      "cell_type": "code",
      "source": [
        "import numpy as np\n",
        "import matplotlib.pyplot as plt"
      ],
      "execution_count": 0,
      "outputs": []
    },
    {
      "metadata": {
        "id": "IM8zH31D2M27",
        "colab_type": "code",
        "colab": {}
      },
      "cell_type": "code",
      "source": [
        "num_classes = 7 # angry, disgust, fear, happy, sad, surprise, neutral\n",
        "batch_size = 256\n",
        "epochs = 5"
      ],
      "execution_count": 0,
      "outputs": []
    },
    {
      "metadata": {
        "id": "GKiUPe_piyZb",
        "colab_type": "code",
        "colab": {}
      },
      "cell_type": "code",
      "source": [
        "# with open(\"fer2013.csv\") as f:\n",
        "#   content = f.readlines()\n",
        " \n",
        "# lines = np.array(content)\n",
        " \n",
        "# num_of_instances = lines.size\n",
        "# print(\"number of instances: \",num_of_instances)"
      ],
      "execution_count": 0,
      "outputs": []
    },
    {
      "metadata": {
        "id": "lLsBiAIM8ZM0",
        "colab_type": "code",
        "colab": {}
      },
      "cell_type": "code",
      "source": [
        "# for i in range(1, num_of_instances):\n",
        "  \n",
        "#   try:\n",
        "#     emotion, img, usage = lines[i].split(\",\")\n",
        "    \n",
        "#     val = img.split(\" \")\n",
        "#     pixels = np.array(val, 'float32')\n",
        "    \n",
        "#     if 'Training' in usage:\n",
        "#       y_train.append(emotion)\n",
        "#       x_train.append(pixels)\n",
        "      \n",
        "#     elif 'PublicTest' in usage:\n",
        "#       y_test.append(emotion)\n",
        "#       x_test.append(pixels)\n",
        "      \n",
        "#   except:\n",
        "#     print(\"\", end=\"\")"
      ],
      "execution_count": 0,
      "outputs": []
    },
    {
      "metadata": {
        "id": "lOqj4ADD9MWg",
        "colab_type": "code",
        "outputId": "58de5c10-beab-489a-df39-874f2d01344f",
        "colab": {
          "base_uri": "https://localhost:8080/",
          "height": 34
        }
      },
      "cell_type": "code",
      "source": [
        "import pandas as pd\n",
        "data = pd.read_csv('fer2013.csv', header=0)\n",
        "data.columns"
      ],
      "execution_count": 7,
      "outputs": [
        {
          "output_type": "execute_result",
          "data": {
            "text/plain": [
              "Index(['emotion', 'pixels', 'Usage'], dtype='object')"
            ]
          },
          "metadata": {
            "tags": []
          },
          "execution_count": 7
        }
      ]
    },
    {
      "metadata": {
        "id": "jqBrA8E49Z_V",
        "colab_type": "code",
        "colab": {
          "base_uri": "https://localhost:8080/",
          "height": 34
        },
        "outputId": "915a46c2-4ceb-41a3-c2b9-3f979eb8d31d"
      },
      "cell_type": "code",
      "source": [
        "grouped = data.groupby('Usage')\n",
        "\n",
        "train = grouped.get_group('Training')\n",
        "test = grouped.get_group('PrivateTest')\n",
        "validation = grouped.get_group('PublicTest')\n",
        "print(len(train), len(test), len(validation))"
      ],
      "execution_count": 10,
      "outputs": [
        {
          "output_type": "stream",
          "text": [
            "28709 3589 3589\n"
          ],
          "name": "stdout"
        }
      ]
    },
    {
      "metadata": {
        "id": "A1UuqcDnC2_3",
        "colab_type": "code",
        "colab": {}
      },
      "cell_type": "code",
      "source": [
        "df = pd.DataFrame(train)\n",
        "df.drop(['Usage'], axis=1, inplace=True)\n",
        "df.to_csv(\"train.csv\", index=False)\n",
        "\n",
        "# df = pd.DataFrame(y_train)\n",
        "# df.to_csv(\"y_train.csv\", index=False)\n",
        "\n",
        "df = pd.DataFrame(test)\n",
        "df.drop(['Usage'], axis=1, inplace=True)\n",
        "df.to_csv(\"test.csv\", index=False)\n",
        "\n",
        "# df = pd.DataFrame(y_test)\n",
        "# df.to_csv(\"y_test.csv\", index=False)\n",
        "\n",
        "df = pd.DataFrame(validation)\n",
        "df.drop(['Usage'], axis=1, inplace=True)\n",
        "df.to_csv(\"validation.csv\", index=False)"
      ],
      "execution_count": 0,
      "outputs": []
    },
    {
      "metadata": {
        "id": "OoyrboTS21IT",
        "colab_type": "code",
        "outputId": "0de0994d-3f33-4036-a5ec-c58417da09d4",
        "colab": {
          "base_uri": "https://localhost:8080/",
          "height": 142
        }
      },
      "cell_type": "code",
      "source": [
        "! pip install torch torchvision"
      ],
      "execution_count": 12,
      "outputs": [
        {
          "output_type": "stream",
          "text": [
            "Requirement already satisfied: torch in /usr/local/lib/python3.6/dist-packages (1.0.1.post2)\n",
            "Requirement already satisfied: torchvision in /usr/local/lib/python3.6/dist-packages (0.2.2.post3)\n",
            "Requirement already satisfied: six in /usr/local/lib/python3.6/dist-packages (from torchvision) (1.11.0)\n",
            "Requirement already satisfied: numpy in /usr/local/lib/python3.6/dist-packages (from torchvision) (1.14.6)\n",
            "Requirement already satisfied: pillow>=4.1.1 in /usr/local/lib/python3.6/dist-packages (from torchvision) (4.1.1)\n",
            "Requirement already satisfied: olefile in /usr/local/lib/python3.6/dist-packages (from pillow>=4.1.1->torchvision) (0.46)\n"
          ],
          "name": "stdout"
        }
      ]
    },
    {
      "metadata": {
        "id": "R85pSFChoxj8",
        "colab_type": "code",
        "colab": {}
      },
      "cell_type": "code",
      "source": [
        "import torch.utils.data as Data"
      ],
      "execution_count": 0,
      "outputs": []
    },
    {
      "metadata": {
        "id": "yLazR0ArAxfg",
        "colab_type": "code",
        "colab": {}
      },
      "cell_type": "code",
      "source": [
        "class FerDataset(Data.Dataset):\n",
        "  \n",
        "  def __init__(self, csv_path, transforms=None, train=False, valid=False):\n",
        "    \n",
        "    self.transform = transforms\n",
        "    \n",
        "    #self.split = split\n",
        "    \n",
        "    self.train = train\n",
        "    \n",
        "    self.valid = valid\n",
        "    \n",
        "    #self.data = pd.read_csv(csv_path)\n",
        "    \n",
        "    \n",
        "    with open(csv_path) as f:\n",
        "      content = f.readlines()\n",
        " \n",
        "    lines = np.array(content)\n",
        " \n",
        "    num_of_instances = lines.size\n",
        "    #print(\"number of instances: \",num_of_instances)\n",
        "    \n",
        "    self.train_data, self.train_labels, self.Test_data, self.Test_labels, self.valid_data, self.valid_labels = [], [], [], [], [], []\n",
        "    \n",
        "    for i in range(1, num_of_instances):\n",
        "  \n",
        "      try:\n",
        "        emotion, img = lines[i].split(\",\")\n",
        "        \n",
        "        val = img.split(\" \")\n",
        "        pixels = np.array(val, 'int64')\n",
        "      \n",
        "        if self.train == True:\n",
        "          self.train_labels.append(emotion)\n",
        "          self.train_data.append(pixels)\n",
        "          \n",
        "        elif self.valid == True:\n",
        "          self.valid_labels.append(emotion)\n",
        "          self.valid_data.append(pixels)\n",
        "      \n",
        "        else:\n",
        "          self.Test_labels.append(emotion)\n",
        "          self.Test_data.append(pixels)\n",
        "      \n",
        "      except:\n",
        "        print(\"\", end=\"\")\n",
        "    \n",
        "    \n",
        "    \n",
        "    \n",
        "    \n",
        "    \n",
        "    if self.train == True:\n",
        "      \n",
        "#       self.train_data = self.data['pixels']\n",
        "#       self.train_labels = self.data['emotion']\n",
        "       self.train_data = np.asarray(self.train_data)\n",
        "#       print(type(self.train_data))\n",
        "#       print(type(self.train_data[1]))\n",
        "       self.train_data = self.train_data.reshape((28709, 48, 48))\n",
        "#       print(self.train_data[1])\n",
        "     \n",
        "    \n",
        "    elif self.valid == True: \n",
        "      \n",
        "#       self.Test_data = self.data['pixels']\n",
        "#       self.Test_labels = self.data['emotion']\n",
        "       self.valid_data = np.asarray(self.valid_data)\n",
        "       self.valid_data = self.valid_data.reshape((3589, 48, 48))\n",
        "    \n",
        "    else: \n",
        "      \n",
        "#       self.Test_data = self.data['pixels']\n",
        "#       self.Test_labels = self.data['emotion']\n",
        "       self.Test_data = np.asarray(self.Test_data)\n",
        "       self.Test_data = self.Test_data.reshape((3589, 48, 48))\n",
        "      \n",
        "      \n",
        "  def __len__(self):\n",
        "    \n",
        "    if self.train == True:\n",
        "      return len(self.train_data)\n",
        "    \n",
        "    elif self.valid == True:\n",
        "      return len(self.valid_data)\n",
        "    \n",
        "    else:\n",
        "      return len(self.Test_data)\n",
        "    \n",
        "  \n",
        "  \n",
        "  def __getitem__(self):\n",
        "    \n",
        "    if self.train == True:\n",
        "      \n",
        "      img, target = self.train_data, self.train_labels\n",
        "      \n",
        "    elif self.valid == True:\n",
        "      \n",
        "      img, target = self.valid_data, self.valid_labels\n",
        "\n",
        "    else:\n",
        "      \n",
        "      img, target = self.Test_data, self.Test_labels\n",
        "      \n",
        "#     img = img[:, :, np.newaxis]\n",
        "#     img = np.concatenate((img, img, img), axis=2)\n",
        "#     img = Image.fromarray(img)\n",
        "    \n",
        "    if self.transform is not None:\n",
        "      \n",
        "      img = self.transform(img)\n",
        "        \n",
        "    return img, target\n",
        "    \n",
        "      \n",
        "      \n",
        "  \n",
        "  \n",
        "  "
      ],
      "execution_count": 0,
      "outputs": []
    },
    {
      "metadata": {
        "id": "1ycotIVR-0hi",
        "colab_type": "code",
        "colab": {}
      },
      "cell_type": "code",
      "source": [
        "import torchvision.transforms as transforms\n",
        "\n",
        "transform_train = transforms.Compose([\n",
        "    transforms.RandomCrop(44),\n",
        "    transforms.RandomHorizontalFlip(),\n",
        "    transforms.ToTensor(),\n",
        "    transforms.Normalize((0.5, 0.5, 0.5), (0.5, 0.5, 0.5))\n",
        "])\n",
        "\n",
        "transform_test = transforms.Compose([\n",
        "    transforms.TenCrop(44),\n",
        "    transforms.Lambda(lambda crops: torch.stack([transforms.ToTensor()(crop) for crop in crops])),\n",
        "])"
      ],
      "execution_count": 0,
      "outputs": []
    },
    {
      "metadata": {
        "id": "ooT8COpCHHmA",
        "colab_type": "code",
        "colab": {}
      },
      "cell_type": "code",
      "source": [
        "trainset = FerDataset('train.csv', transforms=transform_train, train=True, valid=False)"
      ],
      "execution_count": 0,
      "outputs": []
    },
    {
      "metadata": {
        "id": "tICJ32gZKZJ2",
        "colab_type": "code",
        "colab": {}
      },
      "cell_type": "code",
      "source": [
        "import torch"
      ],
      "execution_count": 0,
      "outputs": []
    },
    {
      "metadata": {
        "id": "GpJ9CPATDmIp",
        "colab_type": "code",
        "colab": {}
      },
      "cell_type": "code",
      "source": [
        "trainloader = Data.DataLoader(trainset, batch_size=256, shuffle=True, num_workers=1)"
      ],
      "execution_count": 0,
      "outputs": []
    },
    {
      "metadata": {
        "id": "X2KVkZyzKUu4",
        "colab_type": "code",
        "colab": {}
      },
      "cell_type": "code",
      "source": [
        "testset = FerDataset('test.csv', transforms=transform_test, train=False, valid=False)"
      ],
      "execution_count": 0,
      "outputs": []
    },
    {
      "metadata": {
        "id": "TGj5GD2ZNNqr",
        "colab_type": "code",
        "colab": {}
      },
      "cell_type": "code",
      "source": [
        "testloader = Data.DataLoader(testset, batch_size=256, shuffle=True, num_workers=1)"
      ],
      "execution_count": 0,
      "outputs": []
    },
    {
      "metadata": {
        "id": "IZLRfXnrnOIQ",
        "colab_type": "code",
        "colab": {}
      },
      "cell_type": "code",
      "source": [
        "validset = FerDataset('validation.csv', transforms=transform_train, train=False, valid=True)\n",
        "validloader = Data.DataLoader(validset, batch_size=256, shuffle=True, num_workers=1)"
      ],
      "execution_count": 0,
      "outputs": []
    },
    {
      "metadata": {
        "id": "NQhfvGbQNaFd",
        "colab_type": "code",
        "colab": {}
      },
      "cell_type": "code",
      "source": [
        "import torch.nn as nn\n",
        "import torch.nn.functional as F\n"
      ],
      "execution_count": 0,
      "outputs": []
    },
    {
      "metadata": {
        "id": "pc0CQNSzmZZu",
        "colab_type": "code",
        "colab": {}
      },
      "cell_type": "code",
      "source": [
        "class model(nn.Module):\n",
        "  \n",
        "  def __init__(self):\n",
        "    \n",
        "    super(model, self).__init__()\n",
        "    \n",
        "    n_features = 48*48\n",
        "    \n",
        "    n_out = 7\n",
        "    \n",
        "    self.conv1 = nn.Conv2d(in_channels=1, out_channels=16, kernel_size=3, stride=1)\n",
        "    \n",
        "    self.conv2 = nn.Conv2d(in_channels=16 , out_channels=32, kernel_size=3, stride=1)\n",
        "    \n",
        "    self.conv3 = nn.Conv2d(in_channels=32 , out_channels=64, kernel_size=3, stride=1)\n",
        "    \n",
        "    self.pool = nn.MaxPool2d(2, 2)\n",
        "    \n",
        "    self.fc = nn.Linear(n_features, 64)\n",
        "    \n",
        "    self.out = nn.Linear(64, n_out)\n",
        "    \n",
        "    self.dropout = nn.Dropout(0.2)\n",
        "    \n",
        "    \n",
        "  def forward(self, x):\n",
        "    \n",
        "    x = F.relu(self.conv1(x))\n",
        "    \n",
        "    x = self.pool(x)\n",
        "    \n",
        "    x = F.relu(self.conv2(x))\n",
        "    \n",
        "    x = self.pool(x)\n",
        "    \n",
        "    x = F.relu(self.conv3(x))\n",
        "    \n",
        "    x = self.pool(x)\n",
        "    \n",
        "    x = x.view(-1, 48*48)\n",
        "    \n",
        "    x = self.dropout(x)\n",
        "    \n",
        "    x = F.relu(self.fc(x))\n",
        "    \n",
        "    x = self.dropout(x)\n",
        "    \n",
        "    x = self.out(x)\n",
        "    \n",
        "    return x\n",
        "  \n",
        "    \n",
        "    \n",
        "    "
      ],
      "execution_count": 0,
      "outputs": []
    },
    {
      "metadata": {
        "id": "WCez4VcamKBc",
        "colab_type": "code",
        "colab": {
          "base_uri": "https://localhost:8080/",
          "height": 195
        },
        "outputId": "e6a19578-272e-4017-c2d6-60496ca803f0"
      },
      "cell_type": "code",
      "source": [
        "net = model()\n",
        "print(net)"
      ],
      "execution_count": 24,
      "outputs": [
        {
          "output_type": "stream",
          "text": [
            "model(\n",
            "  (conv1): Conv2d(1, 16, kernel_size=(3, 3), stride=(1, 1))\n",
            "  (conv2): Conv2d(16, 32, kernel_size=(3, 3), stride=(1, 1))\n",
            "  (conv3): Conv2d(32, 64, kernel_size=(3, 3), stride=(1, 1))\n",
            "  (pool): MaxPool2d(kernel_size=2, stride=2, padding=0, dilation=1, ceil_mode=False)\n",
            "  (fc): Linear(in_features=2304, out_features=64, bias=True)\n",
            "  (out): Linear(in_features=64, out_features=7, bias=True)\n",
            "  (dropout): Dropout(p=0.2)\n",
            ")\n"
          ],
          "name": "stdout"
        }
      ]
    },
    {
      "metadata": {
        "id": "3f3uXWXbgiHO",
        "colab_type": "code",
        "colab": {
          "base_uri": "https://localhost:8080/",
          "height": 34
        },
        "outputId": "8f82855f-d5a7-45fe-e45d-9014144f1978"
      },
      "cell_type": "code",
      "source": [
        "train_on_gpu = torch.cuda.is_available()\n",
        "\n",
        "if not train_on_gpu:\n",
        "  print('Training on CPU...')\n",
        "  \n",
        "else:\n",
        "  print('Training on GPU...')\n",
        "    \n",
        "if train_on_gpu:\n",
        "  net.cuda()"
      ],
      "execution_count": 25,
      "outputs": [
        {
          "output_type": "stream",
          "text": [
            "Training on GPU...\n"
          ],
          "name": "stdout"
        }
      ]
    },
    {
      "metadata": {
        "id": "58-x-ceahNEa",
        "colab_type": "code",
        "colab": {}
      },
      "cell_type": "code",
      "source": [
        "import torch.optim as optim\n",
        "\n",
        "criterion = nn.CrossEntropyLoss()\n",
        "optimizer = optim.SGD(net.parameters(), lr=0.03)"
      ],
      "execution_count": 0,
      "outputs": []
    },
    {
      "metadata": {
        "id": "UVwkelychhkV",
        "colab_type": "code",
        "colab": {
          "base_uri": "https://localhost:8080/",
          "height": 34
        },
        "outputId": "31e26ce5-311a-4ae1-bf78-b5e2451c8fda"
      },
      "cell_type": "code",
      "source": [
        "# Training the network\n",
        "\n",
        "valid_loss_min = np.Inf\n",
        "\n",
        "for epoch in range(1, epochs + 1):\n",
        "  \n",
        "  train_loss = 0.0\n",
        "  valid_loss = 0.0\n",
        "  \n",
        "  net.train()\n",
        "  \n",
        "  for img, target in trainloader:\n",
        "    \n",
        "    if train_on_gpu:\n",
        "      img, target = img.cuda(), target.cuda()\n",
        "      \n",
        "    optimizer.zero_grad()\n",
        "    \n",
        "    output = net(img)\n",
        "    \n",
        "    loss = criterion(output, target)\n",
        "    \n",
        "    loss.backward()\n",
        "    \n",
        "    optimizer.step()\n",
        "    \n",
        "    train_loss += loss.item()*img.size(0)\n",
        "    \n",
        "    \n",
        "\n"
      ],
      "execution_count": 27,
      "outputs": [
        {
          "output_type": "execute_result",
          "data": {
            "text/plain": [
              "torch.utils.data.dataloader.DataLoader"
            ]
          },
          "metadata": {
            "tags": []
          },
          "execution_count": 27
        }
      ]
    },
    {
      "metadata": {
        "id": "8_E8hfJsi7Hs",
        "colab_type": "code",
        "colab": {}
      },
      "cell_type": "code",
      "source": [
        ""
      ],
      "execution_count": 0,
      "outputs": []
    }
  ]
}