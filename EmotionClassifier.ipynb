{
  "nbformat": 4,
  "nbformat_minor": 0,
  "metadata": {
    "colab": {
      "name": "EmotionClassifier.ipynb",
      "version": "0.3.2",
      "provenance": []
    },
    "kernelspec": {
      "name": "python3",
      "display_name": "Python 3"
    },
    "accelerator": "GPU"
  },
  "cells": [
    {
      "metadata": {
        "id": "06FpRNYQllir",
        "colab_type": "code",
        "outputId": "bdf189d6-2bfa-4af0-ee79-e6142464a582",
        "colab": {
          "base_uri": "https://localhost:8080/",
          "height": 125
        }
      },
      "cell_type": "code",
      "source": [
        "# Mounting drive\n",
        "\n",
        "from google.colab import drive\n",
        "drive.mount('/content/gdrive')"
      ],
      "execution_count": 1,
      "outputs": [
        {
          "output_type": "stream",
          "text": [
            "Go to this URL in a browser: https://accounts.google.com/o/oauth2/auth?client_id=947318989803-6bn6qk8qdgf4n4g3pfee6491hc0brc4i.apps.googleusercontent.com&redirect_uri=urn%3Aietf%3Awg%3Aoauth%3A2.0%3Aoob&scope=email%20https%3A%2F%2Fwww.googleapis.com%2Fauth%2Fdocs.test%20https%3A%2F%2Fwww.googleapis.com%2Fauth%2Fdrive%20https%3A%2F%2Fwww.googleapis.com%2Fauth%2Fdrive.photos.readonly%20https%3A%2F%2Fwww.googleapis.com%2Fauth%2Fpeopleapi.readonly&response_type=code\n",
            "\n",
            "Enter your authorization code:\n",
            "··········\n",
            "Mounted at /content/gdrive\n"
          ],
          "name": "stdout"
        }
      ]
    },
    {
      "metadata": {
        "id": "1cj0lFlI0TOm",
        "colab_type": "code",
        "outputId": "ea19d7ab-c54b-4148-ca5c-e8ba0d2ce6eb",
        "colab": {
          "base_uri": "https://localhost:8080/",
          "height": 52
        }
      },
      "cell_type": "code",
      "source": [
        "! unzip gdrive/My\\ Drive/fer2013.zip"
      ],
      "execution_count": 2,
      "outputs": [
        {
          "output_type": "stream",
          "text": [
            "Archive:  gdrive/My Drive/fer2013.zip\n",
            "  inflating: fer2013.csv             \n"
          ],
          "name": "stdout"
        }
      ]
    },
    {
      "metadata": {
        "id": "4K0iS-x_1MXX",
        "colab_type": "code",
        "colab": {}
      },
      "cell_type": "code",
      "source": [
        "import numpy as np\n",
        "import matplotlib.pyplot as plt"
      ],
      "execution_count": 0,
      "outputs": []
    },
    {
      "metadata": {
        "id": "IM8zH31D2M27",
        "colab_type": "code",
        "colab": {}
      },
      "cell_type": "code",
      "source": [
        "num_classes = 7 # angry, disgust, fear, happy, sad, surprise, neutral\n",
        "batch_size = 256\n",
        "epochs = 5"
      ],
      "execution_count": 0,
      "outputs": []
    },
    {
      "metadata": {
        "id": "GKiUPe_piyZb",
        "colab_type": "code",
        "colab": {}
      },
      "cell_type": "code",
      "source": [
        "# with open(\"fer2013.csv\") as f:\n",
        "#   content = f.readlines()\n",
        " \n",
        "# lines = np.array(content)\n",
        " \n",
        "# num_of_instances = lines.size\n",
        "# print(\"number of instances: \",num_of_instances)"
      ],
      "execution_count": 0,
      "outputs": []
    },
    {
      "metadata": {
        "id": "lLsBiAIM8ZM0",
        "colab_type": "code",
        "colab": {}
      },
      "cell_type": "code",
      "source": [
        "# for i in range(1, num_of_instances):\n",
        "  \n",
        "#   try:\n",
        "#     emotion, img, usage = lines[i].split(\",\")\n",
        "    \n",
        "#     val = img.split(\" \")\n",
        "#     pixels = np.array(val, 'float32')\n",
        "    \n",
        "#     if 'Training' in usage:\n",
        "#       y_train.append(emotion)\n",
        "#       x_train.append(pixels)\n",
        "      \n",
        "#     elif 'PublicTest' in usage:\n",
        "#       y_test.append(emotion)\n",
        "#       x_test.append(pixels)\n",
        "      \n",
        "#   except:\n",
        "#     print(\"\", end=\"\")"
      ],
      "execution_count": 0,
      "outputs": []
    },
    {
      "metadata": {
        "id": "lOqj4ADD9MWg",
        "colab_type": "code",
        "outputId": "96c64564-af85-48b5-ec26-d05361c5fa45",
        "colab": {
          "base_uri": "https://localhost:8080/",
          "height": 34
        }
      },
      "cell_type": "code",
      "source": [
        "import pandas as pd\n",
        "data = pd.read_csv('fer2013.csv', header=0)\n",
        "data.columns"
      ],
      "execution_count": 4,
      "outputs": [
        {
          "output_type": "execute_result",
          "data": {
            "text/plain": [
              "Index(['emotion', 'pixels', 'Usage'], dtype='object')"
            ]
          },
          "metadata": {
            "tags": []
          },
          "execution_count": 4
        }
      ]
    },
    {
      "metadata": {
        "id": "jqBrA8E49Z_V",
        "colab_type": "code",
        "colab": {}
      },
      "cell_type": "code",
      "source": [
        "grouped = data.groupby('Usage')\n",
        "\n",
        "train = grouped.get_group('Training')\n",
        "test = grouped.get_group('PublicTest')"
      ],
      "execution_count": 0,
      "outputs": []
    },
    {
      "metadata": {
        "id": "A1UuqcDnC2_3",
        "colab_type": "code",
        "colab": {}
      },
      "cell_type": "code",
      "source": [
        "df = pd.DataFrame(train)\n",
        "df.drop(['Usage'], axis=1, inplace=True)\n",
        "df.to_csv(\"train.csv\", index=False)\n",
        "\n",
        "# df = pd.DataFrame(y_train)\n",
        "# df.to_csv(\"y_train.csv\", index=False)\n",
        "\n",
        "df = pd.DataFrame(test)\n",
        "df.drop(['Usage'], axis=1, inplace=True)\n",
        "df.to_csv(\"test.csv\", index=False)\n",
        "\n",
        "# df = pd.DataFrame(y_test)\n",
        "# df.to_csv(\"y_test.csv\", index=False)"
      ],
      "execution_count": 0,
      "outputs": []
    },
    {
      "metadata": {
        "id": "OoyrboTS21IT",
        "colab_type": "code",
        "outputId": "79c69299-9b2e-484e-95b1-f5202824e92d",
        "colab": {
          "base_uri": "https://localhost:8080/",
          "height": 142
        }
      },
      "cell_type": "code",
      "source": [
        "! pip install torch torchvision"
      ],
      "execution_count": 7,
      "outputs": [
        {
          "output_type": "stream",
          "text": [
            "Requirement already satisfied: torch in /usr/local/lib/python3.6/dist-packages (1.0.1.post2)\n",
            "Requirement already satisfied: torchvision in /usr/local/lib/python3.6/dist-packages (0.2.2.post3)\n",
            "Requirement already satisfied: numpy in /usr/local/lib/python3.6/dist-packages (from torchvision) (1.14.6)\n",
            "Requirement already satisfied: pillow>=4.1.1 in /usr/local/lib/python3.6/dist-packages (from torchvision) (4.1.1)\n",
            "Requirement already satisfied: six in /usr/local/lib/python3.6/dist-packages (from torchvision) (1.11.0)\n",
            "Requirement already satisfied: olefile in /usr/local/lib/python3.6/dist-packages (from pillow>=4.1.1->torchvision) (0.46)\n"
          ],
          "name": "stdout"
        }
      ]
    },
    {
      "metadata": {
        "id": "R85pSFChoxj8",
        "colab_type": "code",
        "colab": {}
      },
      "cell_type": "code",
      "source": [
        "import torch.utils.data as Data\n",
        "from PIL import Image"
      ],
      "execution_count": 0,
      "outputs": []
    },
    {
      "metadata": {
        "id": "yLazR0ArAxfg",
        "colab_type": "code",
        "colab": {}
      },
      "cell_type": "code",
      "source": [
        "class FerDataset(Data.Dataset):\n",
        "  \n",
        "  def __init__(self, csv_path, transforms=None, train=False):\n",
        "    \n",
        "    self.transform = transforms\n",
        "    \n",
        "    #self.split = split\n",
        "    \n",
        "    self.train = train\n",
        "    \n",
        "    #self.data = pd.read_csv(csv_path)\n",
        "    \n",
        "    \n",
        "    with open(csv_path) as f:\n",
        "      content = f.readlines()\n",
        " \n",
        "    lines = np.array(content)\n",
        " \n",
        "    num_of_instances = lines.size\n",
        "    #print(\"number of instances: \",num_of_instances)\n",
        "    \n",
        "    self.train_data, self.train_labels, self.Test_data, self.Test_labels = [], [], [], []\n",
        "    \n",
        "    for i in range(1, num_of_instances):\n",
        "  \n",
        "      try:\n",
        "        emotion, img = lines[i].split(\",\")\n",
        "        \n",
        "        val = img.split(\" \")\n",
        "        pixels = np.array(val, 'float32')\n",
        "      \n",
        "        if self.train == True:\n",
        "          self.train_labels.append(emotion)\n",
        "          self.train_data.append(pixels)\n",
        "      \n",
        "        else:\n",
        "          self.Test_labels.append(emotion)\n",
        "          self.Test_data.append(pixels)\n",
        "      \n",
        "      except:\n",
        "        print(\"\", end=\"\")\n",
        "    \n",
        "    \n",
        "    \n",
        "    \n",
        "    \n",
        "    \n",
        "    if self.train == True:\n",
        "      \n",
        "#       self.train_data = self.data['pixels']\n",
        "#       self.train_labels = self.data['emotion']\n",
        "       self.train_data = np.asarray(self.train_data)\n",
        "#       print(type(self.train_data))\n",
        "#       print(type(self.train_data[1]))\n",
        "       self.train_data = self.train_data.reshape((28709, 48, 48))\n",
        "     \n",
        "    \n",
        "    else: \n",
        "      \n",
        "#       self.Test_data = self.data['pixels']\n",
        "#       self.Test_labels = self.data['emotion']\n",
        "       self.Test_data = np.asarray(self.Test_data)\n",
        "       self.Test_data = self.Test_data.reshape((3589, 48, 48))\n",
        "      \n",
        "      \n",
        "  def __len__(self):\n",
        "    \n",
        "    if self.train == True:\n",
        "      return len(self.train_data)\n",
        "    \n",
        "    else:\n",
        "      return len(self.Test_data)\n",
        "    \n",
        "  \n",
        "  \n",
        "  def __getitem__(self):\n",
        "    \n",
        "    if self.train == True:\n",
        "      \n",
        "      img, target = self.train_data, self.train_labels\n",
        "      \n",
        "    else:\n",
        "      \n",
        "      img, target = self.Test_data, self.Test_labels\n",
        "      \n",
        "    img = img[:, :, np.newaxis]\n",
        "    img = np.concatenate((img, img, img), axis=2)\n",
        "    img = Image.fromarray(img)\n",
        "    \n",
        "    if self.transform is not None:\n",
        "      \n",
        "      img = self.transform(img)\n",
        "        \n",
        "    return img, target\n",
        "    \n",
        "      \n",
        "      \n",
        "  \n",
        "  \n",
        "  "
      ],
      "execution_count": 0,
      "outputs": []
    },
    {
      "metadata": {
        "id": "1ycotIVR-0hi",
        "colab_type": "code",
        "colab": {}
      },
      "cell_type": "code",
      "source": [
        "import torchvision.transforms as transforms\n",
        "\n",
        "transform_train = transforms.Compose([\n",
        "    transforms.RandomCrop(44),\n",
        "    transforms.RandomHorizontalFlip(),\n",
        "    transforms.ToTensor(),\n",
        "])\n",
        "\n",
        "transform_test = transforms.Compose([\n",
        "    transforms.TenCrop(44),\n",
        "    transforms.Lambda(lambda crops: torch.stack([transforms.ToTensor()(crop) for crop in crops])),\n",
        "])"
      ],
      "execution_count": 0,
      "outputs": []
    },
    {
      "metadata": {
        "id": "ooT8COpCHHmA",
        "colab_type": "code",
        "colab": {}
      },
      "cell_type": "code",
      "source": [
        "trainset = FerDataset('train.csv', transforms=transform_train, train=True)"
      ],
      "execution_count": 0,
      "outputs": []
    },
    {
      "metadata": {
        "id": "tICJ32gZKZJ2",
        "colab_type": "code",
        "colab": {}
      },
      "cell_type": "code",
      "source": [
        "import torch"
      ],
      "execution_count": 0,
      "outputs": []
    },
    {
      "metadata": {
        "id": "GpJ9CPATDmIp",
        "colab_type": "code",
        "colab": {}
      },
      "cell_type": "code",
      "source": [
        "trainloader = Data.DataLoader(trainset, batch_size=256, shuffle=True, num_workers=1)"
      ],
      "execution_count": 0,
      "outputs": []
    },
    {
      "metadata": {
        "id": "X2KVkZyzKUu4",
        "colab_type": "code",
        "colab": {}
      },
      "cell_type": "code",
      "source": [
        ""
      ],
      "execution_count": 0,
      "outputs": []
    }
  ]
}